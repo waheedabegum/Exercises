{
  "nbformat": 4,
  "nbformat_minor": 0,
  "metadata": {
    "colab": {
      "provenance": [],
      "authorship_tag": "ABX9TyOSHSx1JK4y0dLEh4NXxN8P",
      "include_colab_link": true
    },
    "kernelspec": {
      "name": "python3",
      "display_name": "Python 3"
    },
    "language_info": {
      "name": "python"
    }
  },
  "cells": [
    {
      "cell_type": "markdown",
      "metadata": {
        "id": "view-in-github",
        "colab_type": "text"
      },
      "source": [
        "<a href=\"https://colab.research.google.com/github/waheedabegum/Exercises/blob/master/sentimentanalysis.ipynb\" target=\"_parent\"><img src=\"https://colab.research.google.com/assets/colab-badge.svg\" alt=\"Open In Colab\"/></a>"
      ]
    },
    {
      "cell_type": "code",
      "source": [
        "from transformers.pipelines import SUPPORTED_TASKS\n",
        "\n",
        "# Print all available pipeline task names in your installed version\n",
        "print(\"Available Hugging Face pipeline tasks:\\n\")\n",
        "for task_name in SUPPORTED_TASKS.keys():\n",
        "    print(\"-\", task_name)"
      ],
      "metadata": {
        "colab": {
          "base_uri": "https://localhost:8080/"
        },
        "collapsed": true,
        "id": "Atoihj2ZWT4T",
        "outputId": "ae49f6dd-fff3-4b7a-b97e-30bd391af693"
      },
      "execution_count": 11,
      "outputs": [
        {
          "output_type": "stream",
          "name": "stdout",
          "text": [
            "Available Hugging Face pipeline tasks:\n",
            "\n",
            "- audio-classification\n",
            "- automatic-speech-recognition\n",
            "- text-to-audio\n",
            "- feature-extraction\n",
            "- text-classification\n",
            "- token-classification\n",
            "- question-answering\n",
            "- table-question-answering\n",
            "- visual-question-answering\n",
            "- document-question-answering\n",
            "- fill-mask\n",
            "- summarization\n",
            "- translation\n",
            "- text2text-generation\n",
            "- text-generation\n",
            "- zero-shot-classification\n",
            "- zero-shot-image-classification\n",
            "- zero-shot-audio-classification\n",
            "- image-classification\n",
            "- image-feature-extraction\n",
            "- image-segmentation\n",
            "- image-to-text\n",
            "- image-text-to-text\n",
            "- object-detection\n",
            "- zero-shot-object-detection\n",
            "- depth-estimation\n",
            "- video-classification\n",
            "- mask-generation\n",
            "- image-to-image\n",
            "- keypoint-matching\n"
          ]
        }
      ]
    },
    {
      "cell_type": "code",
      "execution_count": 3,
      "metadata": {
        "colab": {
          "base_uri": "https://localhost:8080/"
        },
        "id": "X20nG_rlRnXO",
        "outputId": "b0a0db33-80a3-46c0-c3fa-2a3a6c556bda"
      },
      "outputs": [
        {
          "output_type": "stream",
          "name": "stderr",
          "text": [
            "No model was supplied, defaulted to distilbert/distilbert-base-uncased-finetuned-sst-2-english and revision 714eb0f (https://huggingface.co/distilbert/distilbert-base-uncased-finetuned-sst-2-english).\n",
            "Using a pipeline without specifying a model name and revision in production is not recommended.\n",
            "Device set to use cpu\n"
          ]
        },
        {
          "output_type": "stream",
          "name": "stdout",
          "text": [
            "[{'label': 'POSITIVE', 'score': 0.6518264412879944}]\n"
          ]
        }
      ],
      "source": [
        "from transformers import pipeline\n",
        "x = pipeline(\"sentiment-analysis\")\n",
        "y = \"this new robot is kind of okok\"\n",
        "res = x(y)\n",
        "print(res)"
      ]
    },
    {
      "cell_type": "code",
      "source": [
        "from transformers import pipeline\n",
        "classifer = pipeline(\"sentiment-analysis\")\n",
        "reviews = [\"this robot was not at all doing its tasks\",\"this robot looks pretty cute though\", \"The product is okay, not bad but not great either.\",\n",
        "    \"I went to the store today.\",\n",
        "    \"It is raining outside.\",\n",
        "    \"The movie was neither good nor terrible.\",\n",
        "    \"I have no strong feelings about this.\"]\n",
        "result = classifer(reviews)\n",
        "for review, res in zip(reviews,result):\n",
        "  print(f\"review: {review} | sentiment {res['label']} | score: {res['score']}\")"
      ],
      "metadata": {
        "colab": {
          "base_uri": "https://localhost:8080/"
        },
        "id": "vcO1EYnjYIcg",
        "outputId": "9782942a-5e97-41a4-e0d3-0d580bd2144f"
      },
      "execution_count": 19,
      "outputs": [
        {
          "output_type": "stream",
          "name": "stderr",
          "text": [
            "No model was supplied, defaulted to distilbert/distilbert-base-uncased-finetuned-sst-2-english and revision 714eb0f (https://huggingface.co/distilbert/distilbert-base-uncased-finetuned-sst-2-english).\n",
            "Using a pipeline without specifying a model name and revision in production is not recommended.\n",
            "Device set to use cpu\n"
          ]
        },
        {
          "output_type": "stream",
          "name": "stdout",
          "text": [
            "review: this robot was not at all doing its tasks | sentiment NEGATIVE | score: 0.9997559189796448\n",
            "review: this robot looks pretty cute though | sentiment POSITIVE | score: 0.9995415210723877\n",
            "review: The product is okay, not bad but not great either. | sentiment NEGATIVE | score: 0.9943148493766785\n",
            "review: I went to the store today. | sentiment NEGATIVE | score: 0.9580471515655518\n",
            "review: It is raining outside. | sentiment NEGATIVE | score: 0.6048009991645813\n",
            "review: The movie was neither good nor terrible. | sentiment NEGATIVE | score: 0.9975829124450684\n",
            "review: I have no strong feelings about this. | sentiment NEGATIVE | score: 0.9997407793998718\n"
          ]
        }
      ]
    }
  ]
}