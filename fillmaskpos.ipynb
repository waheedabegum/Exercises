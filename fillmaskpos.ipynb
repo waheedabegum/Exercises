{
  "nbformat": 4,
  "nbformat_minor": 0,
  "metadata": {
    "colab": {
      "provenance": [],
      "authorship_tag": "ABX9TyNGktzXAjUu8PhibIPqoiu+",
      "include_colab_link": true
    },
    "kernelspec": {
      "name": "python3",
      "display_name": "Python 3"
    },
    "language_info": {
      "name": "python"
    }
  },
  "cells": [
    {
      "cell_type": "markdown",
      "metadata": {
        "id": "view-in-github",
        "colab_type": "text"
      },
      "source": [
        "<a href=\"https://colab.research.google.com/github/waheedabegum/Exercises/blob/master/fillmaskpos.ipynb\" target=\"_parent\"><img src=\"https://colab.research.google.com/assets/colab-badge.svg\" alt=\"Open In Colab\"/></a>"
      ]
    },
    {
      "cell_type": "code",
      "execution_count": null,
      "metadata": {
        "id": "Mt4LX67b9NFa"
      },
      "outputs": [],
      "source": [
        "from transformers import pipeline\n",
        "ner = pipeline(\"ner\", grouped_entities = True)#this is task , below one is model\n",
        "text = \"Abdul Kalam is a great president . he worked for nasa\"\n",
        "entities = ner(text)\n",
        "print(entities) # if you remve grouped entities , you will not see the same output"
      ]
    },
    {
      "cell_type": "code",
      "source": [
        "from transformers import pipeline\n",
        "ner = pipeline(model=\"vblagoje/bert-english-uncased-finetuned-pos\")\n",
        "text = \"Abdul Kalam is a great president . he worked for nasa\"\n",
        "entities = ner(text)\n",
        "print(entities) # if you remve grouped entities , you will not see the same output"
      ],
      "metadata": {
        "id": "L5VknE9o94cL"
      },
      "execution_count": null,
      "outputs": []
    },
    {
      "cell_type": "code",
      "source": [
        "from transformers import pipeline\n",
        "ner = pipeline(\"fill-mas\",model=\"bert-base-uncased\")\n",
        "text = \"Abdul Kalam is a great [MASK] . he worked for [MASK]\"\n",
        "entities = ner(text)\n",
        "print(entities) # if you remve grouped entities , you will not see the same output"
      ],
      "metadata": {
        "id": "XzIM47OjAQ_U"
      },
      "execution_count": null,
      "outputs": []
    }
  ]
}